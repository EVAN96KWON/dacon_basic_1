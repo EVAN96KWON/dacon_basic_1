{
 "cells": [
  {
   "cell_type": "code",
   "execution_count": 1,
   "outputs": [
    {
     "name": "stdout",
     "output_type": "stream",
     "text": [
      "Python implementation: CPython\n",
      "Python version       : 3.7.12\n",
      "IPython version      : 7.33.0\n",
      "\n",
      "numpy     : 1.21.6\n",
      "scipy     : 1.7.3\n",
      "sklearn   : 0.23.2\n",
      "pandas    : 1.3.4\n",
      "matplotlib: 3.5.2\n",
      "\n"
     ]
    }
   ],
   "source": [
    "%load_ext watermark\n",
    "%watermark -v -p numpy,scipy,sklearn,pandas,matplotlib"
   ],
   "metadata": {
    "collapsed": false,
    "pycharm": {
     "name": "#%%\n"
    }
   }
  },
  {
   "cell_type": "code",
   "execution_count": 2,
   "outputs": [],
   "source": [
    "import numpy as np\n",
    "import os\n",
    "import seaborn as sns\n",
    "import sklearn\n",
    "\n",
    "# 일관된 출력을 위해 유사난수 초기화\n",
    "np.random.seed(42)\n",
    "\n",
    "# 맷플롯립 설정\n",
    "%matplotlib inline\n",
    "import matplotlib\n",
    "import matplotlib.pyplot as plt\n",
    "plt.rcParams['axes.labelsize'] = 14\n",
    "plt.rcParams['xtick.labelsize'] = 12\n",
    "plt.rcParams['ytick.labelsize'] = 12\n",
    "\n",
    "# 한글출력\n",
    "matplotlib.rc('font', family='NanumBarunGothic')\n",
    "plt.rcParams['axes.unicode_minus'] = False"
   ],
   "metadata": {
    "collapsed": false,
    "pycharm": {
     "name": "#%%\n"
    }
   }
  },
  {
   "cell_type": "markdown",
   "source": [
    "# DATA 불러오기"
   ],
   "metadata": {
    "collapsed": false,
    "pycharm": {
     "name": "#%% md\n"
    }
   }
  },
  {
   "cell_type": "code",
   "execution_count": 3,
   "outputs": [],
   "source": [
    "import pandas as pd\n",
    "import warnings\n",
    "warnings.simplefilter(action='ignore', category=FutureWarning)\n",
    "pd.set_option('mode.chained_assignment',  None)\n",
    "\n",
    "PROJECT_ROOT_DIR = './..'\n",
    "DATA_DIR = 'data'\n",
    "DATA_PATH = os.path.join(PROJECT_ROOT_DIR, DATA_DIR, )\n",
    "\n",
    "def load_user_data(data_path = DATA_PATH):\n",
    "    train_csv_path = os.path.join(data_path, 'train.csv')\n",
    "    test_csv_path = os.path.join(data_path, 'test.csv')\n",
    "    return pd.read_csv(train_csv_path), pd.read_csv(test_csv_path)\n",
    "\n",
    "train, test = load_user_data(DATA_PATH)"
   ],
   "metadata": {
    "collapsed": false,
    "pycharm": {
     "name": "#%%\n"
    }
   }
  },
  {
   "cell_type": "markdown",
   "source": [
    "# DATA 확인"
   ],
   "metadata": {
    "collapsed": false,
    "pycharm": {
     "name": "#%% md\n"
    }
   }
  },
  {
   "cell_type": "code",
   "execution_count": 4,
   "outputs": [
    {
     "data": {
      "text/plain": "   id  Year_Birth   Education Marital_Status   Income  Kidhome  Teenhome  \\\n0   0        1974      Master       Together  46014.0        1         1   \n1   1        1962  Graduation         Single  76624.0        0         1   \n2   2        1951  Graduation        Married  75903.0        0         1   \n3   3        1974       Basic        Married  18393.0        1         0   \n4   4        1946         PhD       Together  64014.0        2         1   \n\n  Dt_Customer  Recency  NumDealsPurchases  ...  NumStorePurchases  \\\n0  21-01-2013       21                 10  ...                  8   \n1  24-05-2014       68                  1  ...                  7   \n2  08-04-2013       50                  2  ...                  9   \n3  29-03-2014        2                  2  ...                  3   \n4  10-06-2014       56                  7  ...                  5   \n\n   NumWebVisitsMonth  AcceptedCmp3  AcceptedCmp4  AcceptedCmp5  AcceptedCmp1  \\\n0                  7             0             0             0             0   \n1                  1             1             0             0             0   \n2                  3             0             0             0             0   \n3                  8             0             0             0             0   \n4                  7             0             0             0             1   \n\n   AcceptedCmp2  Complain  Response  target  \n0             0         0         0     541  \n1             0         0         0     899  \n2             0         0         0     901  \n3             0         0         0      50  \n4             0         0         0     444  \n\n[5 rows x 22 columns]",
      "text/html": "<div>\n<style scoped>\n    .dataframe tbody tr th:only-of-type {\n        vertical-align: middle;\n    }\n\n    .dataframe tbody tr th {\n        vertical-align: top;\n    }\n\n    .dataframe thead th {\n        text-align: right;\n    }\n</style>\n<table border=\"1\" class=\"dataframe\">\n  <thead>\n    <tr style=\"text-align: right;\">\n      <th></th>\n      <th>id</th>\n      <th>Year_Birth</th>\n      <th>Education</th>\n      <th>Marital_Status</th>\n      <th>Income</th>\n      <th>Kidhome</th>\n      <th>Teenhome</th>\n      <th>Dt_Customer</th>\n      <th>Recency</th>\n      <th>NumDealsPurchases</th>\n      <th>...</th>\n      <th>NumStorePurchases</th>\n      <th>NumWebVisitsMonth</th>\n      <th>AcceptedCmp3</th>\n      <th>AcceptedCmp4</th>\n      <th>AcceptedCmp5</th>\n      <th>AcceptedCmp1</th>\n      <th>AcceptedCmp2</th>\n      <th>Complain</th>\n      <th>Response</th>\n      <th>target</th>\n    </tr>\n  </thead>\n  <tbody>\n    <tr>\n      <th>0</th>\n      <td>0</td>\n      <td>1974</td>\n      <td>Master</td>\n      <td>Together</td>\n      <td>46014.0</td>\n      <td>1</td>\n      <td>1</td>\n      <td>21-01-2013</td>\n      <td>21</td>\n      <td>10</td>\n      <td>...</td>\n      <td>8</td>\n      <td>7</td>\n      <td>0</td>\n      <td>0</td>\n      <td>0</td>\n      <td>0</td>\n      <td>0</td>\n      <td>0</td>\n      <td>0</td>\n      <td>541</td>\n    </tr>\n    <tr>\n      <th>1</th>\n      <td>1</td>\n      <td>1962</td>\n      <td>Graduation</td>\n      <td>Single</td>\n      <td>76624.0</td>\n      <td>0</td>\n      <td>1</td>\n      <td>24-05-2014</td>\n      <td>68</td>\n      <td>1</td>\n      <td>...</td>\n      <td>7</td>\n      <td>1</td>\n      <td>1</td>\n      <td>0</td>\n      <td>0</td>\n      <td>0</td>\n      <td>0</td>\n      <td>0</td>\n      <td>0</td>\n      <td>899</td>\n    </tr>\n    <tr>\n      <th>2</th>\n      <td>2</td>\n      <td>1951</td>\n      <td>Graduation</td>\n      <td>Married</td>\n      <td>75903.0</td>\n      <td>0</td>\n      <td>1</td>\n      <td>08-04-2013</td>\n      <td>50</td>\n      <td>2</td>\n      <td>...</td>\n      <td>9</td>\n      <td>3</td>\n      <td>0</td>\n      <td>0</td>\n      <td>0</td>\n      <td>0</td>\n      <td>0</td>\n      <td>0</td>\n      <td>0</td>\n      <td>901</td>\n    </tr>\n    <tr>\n      <th>3</th>\n      <td>3</td>\n      <td>1974</td>\n      <td>Basic</td>\n      <td>Married</td>\n      <td>18393.0</td>\n      <td>1</td>\n      <td>0</td>\n      <td>29-03-2014</td>\n      <td>2</td>\n      <td>2</td>\n      <td>...</td>\n      <td>3</td>\n      <td>8</td>\n      <td>0</td>\n      <td>0</td>\n      <td>0</td>\n      <td>0</td>\n      <td>0</td>\n      <td>0</td>\n      <td>0</td>\n      <td>50</td>\n    </tr>\n    <tr>\n      <th>4</th>\n      <td>4</td>\n      <td>1946</td>\n      <td>PhD</td>\n      <td>Together</td>\n      <td>64014.0</td>\n      <td>2</td>\n      <td>1</td>\n      <td>10-06-2014</td>\n      <td>56</td>\n      <td>7</td>\n      <td>...</td>\n      <td>5</td>\n      <td>7</td>\n      <td>0</td>\n      <td>0</td>\n      <td>0</td>\n      <td>1</td>\n      <td>0</td>\n      <td>0</td>\n      <td>0</td>\n      <td>444</td>\n    </tr>\n  </tbody>\n</table>\n<p>5 rows × 22 columns</p>\n</div>"
     },
     "execution_count": 4,
     "metadata": {},
     "output_type": "execute_result"
    }
   ],
   "source": [
    "train.head()"
   ],
   "metadata": {
    "collapsed": false,
    "pycharm": {
     "name": "#%%\n"
    }
   }
  },
  {
   "cell_type": "code",
   "execution_count": 5,
   "outputs": [],
   "source": [
    "train = train.drop('id', axis=1)"
   ],
   "metadata": {
    "collapsed": false,
    "pycharm": {
     "name": "#%%\n"
    }
   }
  },
  {
   "cell_type": "code",
   "execution_count": 6,
   "outputs": [
    {
     "data": {
      "text/plain": "Index(['Year_Birth', 'Education', 'Marital_Status', 'Income', 'Kidhome',\n       'Teenhome', 'Dt_Customer', 'Recency', 'NumDealsPurchases',\n       'NumWebPurchases', 'NumCatalogPurchases', 'NumStorePurchases',\n       'NumWebVisitsMonth', 'AcceptedCmp3', 'AcceptedCmp4', 'AcceptedCmp5',\n       'AcceptedCmp1', 'AcceptedCmp2', 'Complain', 'Response', 'target'],\n      dtype='object')"
     },
     "execution_count": 6,
     "metadata": {},
     "output_type": "execute_result"
    }
   ],
   "source": [
    "train.columns"
   ],
   "metadata": {
    "collapsed": false,
    "pycharm": {
     "name": "#%%\n"
    }
   }
  },
  {
   "cell_type": "code",
   "execution_count": 7,
   "outputs": [
    {
     "name": "stdout",
     "output_type": "stream",
     "text": [
      "<class 'pandas.core.frame.DataFrame'>\n",
      "RangeIndex: 1108 entries, 0 to 1107\n",
      "Data columns (total 21 columns):\n",
      " #   Column               Non-Null Count  Dtype  \n",
      "---  ------               --------------  -----  \n",
      " 0   Year_Birth           1108 non-null   int64  \n",
      " 1   Education            1108 non-null   object \n",
      " 2   Marital_Status       1108 non-null   object \n",
      " 3   Income               1108 non-null   float64\n",
      " 4   Kidhome              1108 non-null   int64  \n",
      " 5   Teenhome             1108 non-null   int64  \n",
      " 6   Dt_Customer          1108 non-null   object \n",
      " 7   Recency              1108 non-null   int64  \n",
      " 8   NumDealsPurchases    1108 non-null   int64  \n",
      " 9   NumWebPurchases      1108 non-null   int64  \n",
      " 10  NumCatalogPurchases  1108 non-null   int64  \n",
      " 11  NumStorePurchases    1108 non-null   int64  \n",
      " 12  NumWebVisitsMonth    1108 non-null   int64  \n",
      " 13  AcceptedCmp3         1108 non-null   int64  \n",
      " 14  AcceptedCmp4         1108 non-null   int64  \n",
      " 15  AcceptedCmp5         1108 non-null   int64  \n",
      " 16  AcceptedCmp1         1108 non-null   int64  \n",
      " 17  AcceptedCmp2         1108 non-null   int64  \n",
      " 18  Complain             1108 non-null   int64  \n",
      " 19  Response             1108 non-null   int64  \n",
      " 20  target               1108 non-null   int64  \n",
      "dtypes: float64(1), int64(17), object(3)\n",
      "memory usage: 181.9+ KB\n"
     ]
    }
   ],
   "source": [
    "train.info()"
   ],
   "metadata": {
    "collapsed": false,
    "pycharm": {
     "name": "#%%\n"
    }
   }
  },
  {
   "cell_type": "code",
   "execution_count": 8,
   "outputs": [
    {
     "data": {
      "text/plain": "      index  target\n0         0     541\n1         1     899\n2         2     901\n3         3      50\n4         4     444\n...     ...     ...\n1103   1103     241\n1104   1104     147\n1105   1105      30\n1106   1106     447\n1107   1107     302\n\n[1108 rows x 2 columns]",
      "text/html": "<div>\n<style scoped>\n    .dataframe tbody tr th:only-of-type {\n        vertical-align: middle;\n    }\n\n    .dataframe tbody tr th {\n        vertical-align: top;\n    }\n\n    .dataframe thead th {\n        text-align: right;\n    }\n</style>\n<table border=\"1\" class=\"dataframe\">\n  <thead>\n    <tr style=\"text-align: right;\">\n      <th></th>\n      <th>index</th>\n      <th>target</th>\n    </tr>\n  </thead>\n  <tbody>\n    <tr>\n      <th>0</th>\n      <td>0</td>\n      <td>541</td>\n    </tr>\n    <tr>\n      <th>1</th>\n      <td>1</td>\n      <td>899</td>\n    </tr>\n    <tr>\n      <th>2</th>\n      <td>2</td>\n      <td>901</td>\n    </tr>\n    <tr>\n      <th>3</th>\n      <td>3</td>\n      <td>50</td>\n    </tr>\n    <tr>\n      <th>4</th>\n      <td>4</td>\n      <td>444</td>\n    </tr>\n    <tr>\n      <th>...</th>\n      <td>...</td>\n      <td>...</td>\n    </tr>\n    <tr>\n      <th>1103</th>\n      <td>1103</td>\n      <td>241</td>\n    </tr>\n    <tr>\n      <th>1104</th>\n      <td>1104</td>\n      <td>147</td>\n    </tr>\n    <tr>\n      <th>1105</th>\n      <td>1105</td>\n      <td>30</td>\n    </tr>\n    <tr>\n      <th>1106</th>\n      <td>1106</td>\n      <td>447</td>\n    </tr>\n    <tr>\n      <th>1107</th>\n      <td>1107</td>\n      <td>302</td>\n    </tr>\n  </tbody>\n</table>\n<p>1108 rows × 2 columns</p>\n</div>"
     },
     "execution_count": 8,
     "metadata": {},
     "output_type": "execute_result"
    }
   ],
   "source": [
    "X = train.drop('target', axis=1)\n",
    "y = train.target\n",
    "X.reset_index()\n",
    "y.reset_index()"
   ],
   "metadata": {
    "collapsed": false,
    "pycharm": {
     "name": "#%%\n"
    }
   }
  },
  {
   "cell_type": "markdown",
   "source": [
    "# 전처리"
   ],
   "metadata": {
    "collapsed": false,
    "pycharm": {
     "name": "#%% md\n"
    }
   }
  },
  {
   "cell_type": "code",
   "execution_count": 9,
   "outputs": [],
   "source": [
    "from sklearn.base import BaseEstimator, TransformerMixin\n",
    "\n",
    "class DtCustomerSplitter(BaseEstimator, TransformerMixin):\n",
    "    def __init__(self):\n",
    "        pass\n",
    "    def fit(self, X, y=None):\n",
    "        return self\n",
    "    def transform(self, X, y=None):\n",
    "        year, month, day = list(), list(), list()\n",
    "        for date in X.Dt_Customer:\n",
    "            da, mo, ye = date.split('-')\n",
    "            year.append(int(ye))\n",
    "            month.append(int(mo))\n",
    "            day.append(int(da))\n",
    "        X['year']  = year\n",
    "        X['month'] = month\n",
    "        X['day']   = day\n",
    "        return X.drop('Dt_Customer', axis=1)"
   ],
   "metadata": {
    "collapsed": false,
    "pycharm": {
     "name": "#%%\n"
    }
   }
  },
  {
   "cell_type": "code",
   "execution_count": 10,
   "outputs": [],
   "source": [
    "class HousingTypeClassifier(BaseEstimator, TransformerMixin):\n",
    "    def __init__(self):\n",
    "        pass\n",
    "    def fit(self, X, y=None):\n",
    "        return self\n",
    "    def transform(self, X, y=None):\n",
    "        for i in range(X.shape[0]):\n",
    "            marital_status = X['Marital_Status'].iloc[i]\n",
    "            if marital_status in ['Married', 'Together']:\n",
    "                X['Marital_Status'].iloc[i] = 0\n",
    "            else:\n",
    "                X['Marital_Status'].iloc[i] = 1\n",
    "        return X"
   ],
   "metadata": {
    "collapsed": false,
    "pycharm": {
     "name": "#%%\n"
    }
   }
  },
  {
   "cell_type": "code",
   "execution_count": 11,
   "outputs": [],
   "source": [
    "class KidChildToBinary(BaseEstimator, TransformerMixin):\n",
    "    def __init__(self):\n",
    "        pass\n",
    "    def fit(self, X, y=None):\n",
    "        return self\n",
    "    def transform(self, X, y=None):\n",
    "        for i in range(X.shape[0]):\n",
    "            kid_home = X['Kidhome'].iloc[i]\n",
    "            child_home = X['Teenhome'].iloc[i]\n",
    "            if kid_home + child_home != 0 :\n",
    "                X['Teenhome'].iloc[i] = 1\n",
    "            else:\n",
    "                X['Teenhome'].iloc[i] = 0\n",
    "        return X.drop('Kidhome', axis=1)"
   ],
   "metadata": {
    "collapsed": false,
    "pycharm": {
     "name": "#%%\n"
    }
   }
  },
  {
   "cell_type": "code",
   "execution_count": 12,
   "outputs": [],
   "source": [
    "class DoNothing(BaseEstimator, TransformerMixin):\n",
    "    def __init__(self):\n",
    "        pass\n",
    "    def fit(self, X, y=None):\n",
    "        return self\n",
    "    def transform(self, X, y=None):\n",
    "        return X"
   ],
   "metadata": {
    "collapsed": false,
    "pycharm": {
     "name": "#%%\n"
    }
   }
  },
  {
   "cell_type": "code",
   "execution_count": 13,
   "outputs": [],
   "source": [
    "from sklearn.compose import ColumnTransformer\n",
    "from sklearn.preprocessing import OneHotEncoder\n",
    "from sklearn.preprocessing import OrdinalEncoder\n",
    "from sklearn.preprocessing import RobustScaler\n",
    "\n",
    "left = ['Income',\n",
    "        # 'Kidhome',\n",
    "       # 'Teenhome',\n",
    "        'Recency', 'NumDealsPurchases',\n",
    "       'NumWebPurchases', 'NumCatalogPurchases', 'NumStorePurchases',\n",
    "       'NumWebVisitsMonth', 'AcceptedCmp3', 'AcceptedCmp4', 'AcceptedCmp5',\n",
    "       'AcceptedCmp1', 'AcceptedCmp2', 'Complain', 'Response']\n",
    "ord_cat = [['Basic','2n Cycle','Graduation','Master','PhD']]\n",
    "\n",
    "my_pipeline = ColumnTransformer([\n",
    "    # ('DtCustomerSplitter', DtCustomerSplitter(), ['Dt_Customer']),\n",
    "    ('KidChildToBinary', KidChildToBinary(), ['Kidhome', 'Teenhome']),\n",
    "    ('HousingTypeClassifier', HousingTypeClassifier(), ['Marital_Status']),\n",
    "    ('OrdinalEncoder', OrdinalEncoder(categories=ord_cat), ['Education']),\n",
    "    ('RobustScaler', RobustScaler(), ['Year_Birth']),\n",
    "    ('DoNothing', DoNothing(), left)\n",
    "])\n"
   ],
   "metadata": {
    "collapsed": false,
    "pycharm": {
     "name": "#%%\n"
    }
   }
  },
  {
   "cell_type": "code",
   "execution_count": 14,
   "outputs": [
    {
     "data": {
      "text/plain": "array([[1, 0, 3.0, ..., 0.0, 0.0, 0.0],\n       [1, 1, 2.0, ..., 0.0, 0.0, 0.0],\n       [1, 0, 2.0, ..., 0.0, 0.0, 0.0],\n       ...,\n       [1, 0, 3.0, ..., 0.0, 0.0, 0.0],\n       [1, 1, 2.0, ..., 0.0, 0.0, 0.0],\n       [1, 1, 4.0, ..., 0.0, 0.0, 1.0]], dtype=object)"
     },
     "execution_count": 14,
     "metadata": {},
     "output_type": "execute_result"
    }
   ],
   "source": [
    "test_X = my_pipeline.fit_transform(X)\n",
    "test_X"
   ],
   "metadata": {
    "collapsed": false,
    "pycharm": {
     "name": "#%%\n"
    }
   }
  },
  {
   "cell_type": "code",
   "execution_count": 14,
   "outputs": [],
   "source": [],
   "metadata": {
    "collapsed": false,
    "pycharm": {
     "name": "#%%\n"
    }
   }
  },
  {
   "cell_type": "markdown",
   "source": [
    "# 모델"
   ],
   "metadata": {
    "collapsed": false,
    "pycharm": {
     "name": "#%% md\n"
    }
   }
  },
  {
   "cell_type": "code",
   "execution_count": 15,
   "outputs": [],
   "source": [
    "from sklearn.ensemble import VotingRegressor\n",
    "from xgboost import XGBRegressor\n",
    "from lightgbm import LGBMRegressor\n",
    "from catboost import CatBoostRegressor\n",
    "from sklearn.ensemble import RandomForestRegressor\n",
    "from ngboost import NGBRegressor\n",
    "\n",
    "cat_reg = CatBoostRegressor(random_state=42, silent=True)\n",
    "xgb = XGBRegressor(objective='reg:squarederror', random_state = 42)\n",
    "lgbm = LGBMRegressor(objective='regression', random_state = 42)\n",
    "rnd_fr = RandomForestRegressor(random_state=42)\n",
    "ngbr = NGBRegressor(random_state=42, verbose=0)\n",
    "\n",
    "models = [('xgb', xgb), ('lgbm', lgbm), ('cat_reg', cat_reg), ('rnd_fr', rnd_fr), ('ngbr', ngbr)]\n",
    "voting_reg = VotingRegressor(models, n_jobs=1)"
   ],
   "metadata": {
    "collapsed": false,
    "pycharm": {
     "name": "#%%\n"
    }
   }
  },
  {
   "cell_type": "code",
   "execution_count": 16,
   "outputs": [
    {
     "data": {
      "text/plain": "array([[1, 0, 3.0, ..., 0.0, 0.0, 0.0],\n       [1, 1, 2.0, ..., 0.0, 0.0, 0.0],\n       [1, 0, 2.0, ..., 0.0, 0.0, 0.0],\n       ...,\n       [1, 0, 3.0, ..., 0.0, 0.0, 0.0],\n       [1, 1, 2.0, ..., 0.0, 0.0, 0.0],\n       [1, 1, 4.0, ..., 0.0, 0.0, 1.0]], dtype=object)"
     },
     "execution_count": 16,
     "metadata": {},
     "output_type": "execute_result"
    }
   ],
   "source": [
    "X_prepared = my_pipeline.fit_transform(X)\n",
    "X_prepared"
   ],
   "metadata": {
    "collapsed": false,
    "pycharm": {
     "name": "#%%\n"
    }
   }
  },
  {
   "cell_type": "code",
   "execution_count": 17,
   "outputs": [],
   "source": [
    "def nmae(true, pred):\n",
    "    mae = np.mean(np.abs(true-pred))\n",
    "    score = mae / np.mean(np.abs(true))\n",
    "    return score"
   ],
   "metadata": {
    "collapsed": false,
    "pycharm": {
     "name": "#%%\n"
    }
   }
  },
  {
   "cell_type": "code",
   "execution_count": 18,
   "outputs": [],
   "source": [
    "data = test.drop('id', axis = 1).copy()\n",
    "sub_X = data\n",
    "sub_X_prepared = my_pipeline.fit_transform(sub_X)"
   ],
   "metadata": {
    "collapsed": false,
    "pycharm": {
     "name": "#%%\n"
    }
   }
  },
  {
   "cell_type": "code",
   "execution_count": 23,
   "outputs": [
    {
     "name": "stderr",
     "output_type": "stream",
     "text": [
      "/home/piai/anaconda3/envs/dacon_1/lib/python3.7/site-packages/sklearn/model_selection/_split.py:672: UserWarning: The least populated class in y has only 1 members, which is less than n_splits=10.\n",
      "  % (min_groups, self.n_splits)), UserWarning)\n"
     ]
    },
    {
     "name": "stdout",
     "output_type": "stream",
     "text": [
      "========== fold 1 ==========\n",
      "LGBMRegressor model NMAE : 0.1745\n",
      "XGBRegressor model NMAE : 0.1818\n",
      "CatBoostRegressor model NMAE : 0.1587\n",
      "NGBRegressor model NMAE : 0.1764\n",
      "RandomForestRegressor model NMAE : 0.1608\n",
      "==============================\n",
      "Average NMAE 0.1611\n",
      "\n",
      "========== fold 2 ==========\n",
      "LGBMRegressor model NMAE : 0.1680\n",
      "XGBRegressor model NMAE : 0.1714\n",
      "CatBoostRegressor model NMAE : 0.1693\n",
      "NGBRegressor model NMAE : 0.1983\n",
      "RandomForestRegressor model NMAE : 0.1669\n",
      "==============================\n",
      "Average NMAE 0.1635\n",
      "\n",
      "========== fold 3 ==========\n",
      "LGBMRegressor model NMAE : 0.1663\n",
      "XGBRegressor model NMAE : 0.1698\n",
      "CatBoostRegressor model NMAE : 0.1722\n",
      "NGBRegressor model NMAE : 0.1884\n",
      "RandomForestRegressor model NMAE : 0.1710\n",
      "==============================\n",
      "Average NMAE 0.1628\n",
      "\n",
      "========== fold 4 ==========\n",
      "LGBMRegressor model NMAE : 0.1754\n",
      "XGBRegressor model NMAE : 0.1869\n",
      "CatBoostRegressor model NMAE : 0.1812\n",
      "NGBRegressor model NMAE : 0.2071\n",
      "RandomForestRegressor model NMAE : 0.1832\n",
      "==============================\n",
      "Average NMAE 0.1774\n",
      "\n",
      "========== fold 5 ==========\n",
      "LGBMRegressor model NMAE : 0.1763\n",
      "XGBRegressor model NMAE : 0.1555\n",
      "CatBoostRegressor model NMAE : 0.1754\n",
      "NGBRegressor model NMAE : 0.2082\n",
      "RandomForestRegressor model NMAE : 0.1867\n",
      "==============================\n",
      "Average NMAE 0.1737\n",
      "\n",
      "========== fold 6 ==========\n",
      "LGBMRegressor model NMAE : 0.2208\n",
      "XGBRegressor model NMAE : 0.2113\n",
      "CatBoostRegressor model NMAE : 0.2227\n",
      "NGBRegressor model NMAE : 0.2287\n",
      "RandomForestRegressor model NMAE : 0.2011\n",
      "==============================\n",
      "Average NMAE 0.2035\n",
      "\n",
      "========== fold 7 ==========\n",
      "LGBMRegressor model NMAE : 0.2016\n",
      "XGBRegressor model NMAE : 0.2068\n",
      "CatBoostRegressor model NMAE : 0.1895\n",
      "NGBRegressor model NMAE : 0.2334\n",
      "RandomForestRegressor model NMAE : 0.2122\n",
      "==============================\n",
      "Average NMAE 0.1985\n",
      "\n",
      "========== fold 8 ==========\n",
      "LGBMRegressor model NMAE : 0.1578\n",
      "XGBRegressor model NMAE : 0.1600\n",
      "CatBoostRegressor model NMAE : 0.1697\n",
      "NGBRegressor model NMAE : 0.1655\n",
      "RandomForestRegressor model NMAE : 0.1474\n",
      "==============================\n",
      "Average NMAE 0.1498\n",
      "\n",
      "========== fold 9 ==========\n",
      "LGBMRegressor model NMAE : 0.1830\n",
      "XGBRegressor model NMAE : 0.2144\n",
      "CatBoostRegressor model NMAE : 0.1919\n",
      "NGBRegressor model NMAE : 0.1897\n",
      "RandomForestRegressor model NMAE : 0.1900\n",
      "==============================\n",
      "Average NMAE 0.1836\n",
      "\n",
      "========== fold 10 ==========\n",
      "LGBMRegressor model NMAE : 0.1749\n",
      "XGBRegressor model NMAE : 0.1683\n",
      "CatBoostRegressor model NMAE : 0.1668\n",
      "NGBRegressor model NMAE : 0.1819\n",
      "RandomForestRegressor model NMAE : 0.1649\n",
      "==============================\n",
      "Average NMAE 0.1578\n",
      "\n",
      "==============================\n",
      "Total Average NMAE 0.1568\n"
     ]
    }
   ],
   "source": [
    "from sklearn.model_selection import StratifiedKFold\n",
    "import matplotlib.pyplot as plt\n",
    "\n",
    "skf = StratifiedKFold(n_splits = 10, random_state = 42, shuffle = True) #총 10번의 fold 진행\n",
    "n = 0 #x번째 fold인지 기록\n",
    "\n",
    "fold_target_pred = []\n",
    "fold_score = []\n",
    "\n",
    "for train_index, valid_index in skf.split(X_prepared, y): #range 기준으로 stratified k fold 진행\n",
    "    n += 1\n",
    "\n",
    "    val_pred_name = [] #validation pred model 이름 저장\n",
    "    val_pred = []      #validation set pred 결과 저장\n",
    "    target_pred = []   #test set pred 결과 저장\n",
    "\n",
    "    train_X = np.array(X_prepared)\n",
    "    train_Y = np.array(y)\n",
    "\n",
    "    X_train, X_valid = train_X[train_index], train_X[valid_index]\n",
    "    y_train, y_valid = train_Y[train_index], train_Y[valid_index]\n",
    "\n",
    "    X_test = np.array(sub_X_prepared)\n",
    "\n",
    "    ### Create Model ###\n",
    "\n",
    "    ###모델을 생성하고 집어넣으면 됩니다.\n",
    "\n",
    "    ### LGBMRegressor ###\n",
    "    model = LGBMRegressor(random_state = 42, verbose = 0, objective='regression', force_col_wise=True)\n",
    "    #추가적으로 하이퍼파라미터 튜닝 필요\n",
    "    model.fit(X_train, y_train) # 모델 학습\n",
    "\n",
    "    val_pred_name.append(\"LGBMRegressor\")      # 모델 이름 저장\n",
    "    val_pred.append(model.predict(X_valid))   # validation set pred 결과 저장\n",
    "    target_pred.append(model.predict(X_test)) # test set pred 결과 저장\n",
    "\n",
    "    ### XGBRegressor ###\n",
    "    model = XGBRegressor(random_state = 42) #추가적으로 하이퍼파라미터 튜닝 필요\n",
    "    model.fit(X_train, y_train)\n",
    "\n",
    "    val_pred_name.append(\"XGBRegressor\")      # 모델 이름 저장\n",
    "    val_pred.append(model.predict(X_valid))   # validation set pred 결과 저장\n",
    "    target_pred.append(model.predict(X_test)) # test set pred 결과 저장\n",
    "\n",
    "    ### CatBoostRegressor ###\n",
    "    model = CatBoostRegressor(random_state = 42, silent=True) #추가적으로 하이퍼파라미터 튜닝 필요\n",
    "    model.fit(X_train, y_train)\n",
    "\n",
    "    val_pred_name.append(\"CatBoostRegressor\")      # 모델 이름 저장\n",
    "    val_pred.append(model.predict(X_valid))   # validation set pred 결과 저장\n",
    "    target_pred.append(model.predict(X_test)) # test set pred 결과 저장\n",
    "\n",
    "    ### NGBRegressor ###\n",
    "    model = NGBRegressor(random_state = 42, verbose=0) #추가적으로 하이퍼파라미터 튜닝 필요\n",
    "    model.fit(X_train, y_train)\n",
    "\n",
    "    val_pred_name.append(\"NGBRegressor\")      # 모델 이름 저장\n",
    "    val_pred.append(model.predict(X_valid))   # validation set pred 결과 저장\n",
    "    target_pred.append(model.predict(X_test)) # test set pred 결과 저장\n",
    "\n",
    "    ### RandomForestRegressor ###\n",
    "    model = RandomForestRegressor(random_state=42) #추가적으로 하이퍼파라미터 튜닝 필요\n",
    "    model.fit(X_train, y_train)\n",
    "\n",
    "    val_pred_name.append(\"RandomForestRegressor\")      # 모델 이름 저장\n",
    "    val_pred.append(model.predict(X_valid))   # validation set pred 결과 저장\n",
    "    target_pred.append(model.predict(X_test)) # test set pred 결과 저장\n",
    "\n",
    "    ### voting ###\n",
    "\n",
    "    ### average validation pred ###\n",
    "    preds = np.array(val_pred[0])\n",
    "    for i in range(1, len(val_pred)):\n",
    "        preds += val_pred[i]\n",
    "\n",
    "    preds = preds/len(val_pred)\n",
    "\n",
    "    ### average target pred ###\n",
    "    target_preds = np.array(target_pred[0])\n",
    "    for i in range(1, len(target_pred)):\n",
    "        target_preds += target_pred[i]\n",
    "\n",
    "    target_preds = target_preds/len(target_pred)\n",
    "\n",
    "    fold_target_pred.append(target_preds) # append final target pred\n",
    "\n",
    "    print(\"========== fold %d ==========\" %(n))\n",
    "    for i in range(len(val_pred)):\n",
    "        print(\"%s model NMAE : %0.4f\" %(val_pred_name[i], nmae(y_valid, val_pred[i].astype(int))))\n",
    "\n",
    "    print(\"==============================\")\n",
    "    print(\"Average NMAE %0.4f\" %(nmae(y_valid, preds.astype(int))))\n",
    "    print(\"\")\n",
    "\n",
    "    fold_score.append(nmae(y_valid, preds.astype(int)))\n",
    "\n",
    "total_score = fold_score[0]\n",
    "for i in range(2, len(fold_score), 1):\n",
    "    total_score += fold_score[i]\n",
    "total_score = total_score/(len(fold_score))\n",
    "\n",
    "print(\"==============================\")\n",
    "print(\"Total Average NMAE %0.4f\" %(total_score)) #최종 average score 출력"
   ],
   "metadata": {
    "collapsed": false,
    "pycharm": {
     "name": "#%%\n"
    }
   }
  },
  {
   "cell_type": "code",
   "execution_count": 20,
   "outputs": [
    {
     "data": {
      "text/plain": "array([ 542.33337696,  760.10900788,  813.97747201, ...,   71.74198423,\n       1313.20754705,  148.12988971])"
     },
     "execution_count": 20,
     "metadata": {},
     "output_type": "execute_result"
    }
   ],
   "source": [
    "final_pred = np.array(fold_target_pred[0])\n",
    "final_pred"
   ],
   "metadata": {
    "collapsed": false,
    "pycharm": {
     "name": "#%%\n"
    }
   }
  },
  {
   "cell_type": "code",
   "execution_count": 21,
   "outputs": [],
   "source": [
    "### average target pred ###\n",
    "final_pred = np.array(fold_target_pred[0])\n",
    "for i in range(1, len(fold_target_pred)):\n",
    "    final_pred += fold_target_pred[i]\n",
    "\n",
    "final_pred = final_pred/len(fold_target_pred)\n",
    "final_pred = final_pred.astype(int)"
   ],
   "metadata": {
    "collapsed": false,
    "pycharm": {
     "name": "#%%\n"
    }
   }
  },
  {
   "cell_type": "code",
   "execution_count": 22,
   "outputs": [],
   "source": [
    "submission = pd.read_csv('../data/sample_submission.csv')\n",
    "submission['target'] = final_pred\n",
    "submission.to_csv(\"../data/submission_8.csv\", index=False)"
   ],
   "metadata": {
    "collapsed": false,
    "pycharm": {
     "name": "#%%\n"
    }
   }
  },
  {
   "cell_type": "code",
   "execution_count": 22,
   "outputs": [],
   "source": [],
   "metadata": {
    "collapsed": false,
    "pycharm": {
     "name": "#%%\n"
    }
   }
  }
 ],
 "metadata": {
  "kernelspec": {
   "display_name": "Python 3",
   "language": "python",
   "name": "python3"
  },
  "language_info": {
   "codemirror_mode": {
    "name": "ipython",
    "version": 2
   },
   "file_extension": ".py",
   "mimetype": "text/x-python",
   "name": "python",
   "nbconvert_exporter": "python",
   "pygments_lexer": "ipython2",
   "version": "2.7.6"
  }
 },
 "nbformat": 4,
 "nbformat_minor": 0
}